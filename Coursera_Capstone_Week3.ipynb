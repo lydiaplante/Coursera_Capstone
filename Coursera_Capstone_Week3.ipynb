{
  "nbformat": 4,
  "nbformat_minor": 0,
  "metadata": {
    "colab": {
      "name": "Coursera_Capstone_Week3.ipynb",
      "provenance": [],
      "collapsed_sections": []
    },
    "kernelspec": {
      "name": "python3",
      "display_name": "Python 3"
    }
  },
  "cells": [
    {
      "cell_type": "markdown",
      "metadata": {
        "id": "b6r6sRy-2TGs",
        "colab_type": "text"
      },
      "source": [
        "import libraries and read in data"
      ]
    },
    {
      "cell_type": "code",
      "metadata": {
        "id": "0TVwgGKw9j68",
        "colab_type": "code",
        "colab": {}
      },
      "source": [
        "import pandas as pd\n",
        "import numpy as np\n",
        "postal = pd.read_excel('/content/Cap_W3.xlsx')"
      ],
      "execution_count": 0,
      "outputs": []
    },
    {
      "cell_type": "markdown",
      "metadata": {
        "id": "wWToy7aQ2Y1F",
        "colab_type": "text"
      },
      "source": [
        "remove unassigned boroughs and replace unassigned neighborhoods with borough name"
      ]
    },
    {
      "cell_type": "code",
      "metadata": {
        "id": "vKlN1YNb-Xee",
        "colab_type": "code",
        "colab": {}
      },
      "source": [
        "postal = postal.loc[postal['Borough'] != 'Not assigned']\n",
        " \n",
        "postal = postal.replace(to_replace ='Not assigned', value = postal['Neighborhood'])\n"
      ],
      "execution_count": 0,
      "outputs": []
    },
    {
      "cell_type": "code",
      "metadata": {
        "id": "S0IGlAvE_hfV",
        "colab_type": "code",
        "outputId": "04f9031c-ff50-4e56-c31a-12a7442cca00",
        "colab": {
          "base_uri": "https://localhost:8080/",
          "height": 204
        }
      },
      "source": [
        "postal.PostalCode.unique()\n",
        "postal.head()"
      ],
      "execution_count": 149,
      "outputs": [
        {
          "output_type": "execute_result",
          "data": {
            "text/html": [
              "<div>\n",
              "<style scoped>\n",
              "    .dataframe tbody tr th:only-of-type {\n",
              "        vertical-align: middle;\n",
              "    }\n",
              "\n",
              "    .dataframe tbody tr th {\n",
              "        vertical-align: top;\n",
              "    }\n",
              "\n",
              "    .dataframe thead th {\n",
              "        text-align: right;\n",
              "    }\n",
              "</style>\n",
              "<table border=\"1\" class=\"dataframe\">\n",
              "  <thead>\n",
              "    <tr style=\"text-align: right;\">\n",
              "      <th></th>\n",
              "      <th>PostalCode</th>\n",
              "      <th>Borough</th>\n",
              "      <th>Neighborhood</th>\n",
              "    </tr>\n",
              "  </thead>\n",
              "  <tbody>\n",
              "    <tr>\n",
              "      <th>3</th>\n",
              "      <td>M9W</td>\n",
              "      <td>Etobicoke</td>\n",
              "      <td>Northwest</td>\n",
              "    </tr>\n",
              "    <tr>\n",
              "      <th>4</th>\n",
              "      <td>M9V</td>\n",
              "      <td>Etobicoke</td>\n",
              "      <td>Albion Gardens</td>\n",
              "    </tr>\n",
              "    <tr>\n",
              "      <th>5</th>\n",
              "      <td>M9V</td>\n",
              "      <td>Etobicoke</td>\n",
              "      <td>Beaumond Heights</td>\n",
              "    </tr>\n",
              "    <tr>\n",
              "      <th>6</th>\n",
              "      <td>M9V</td>\n",
              "      <td>Etobicoke</td>\n",
              "      <td>Humbergate</td>\n",
              "    </tr>\n",
              "    <tr>\n",
              "      <th>7</th>\n",
              "      <td>M9V</td>\n",
              "      <td>Etobicoke</td>\n",
              "      <td>Jamestown</td>\n",
              "    </tr>\n",
              "  </tbody>\n",
              "</table>\n",
              "</div>"
            ],
            "text/plain": [
              "  PostalCode    Borough      Neighborhood\n",
              "3        M9W  Etobicoke         Northwest\n",
              "4        M9V  Etobicoke    Albion Gardens\n",
              "5        M9V  Etobicoke  Beaumond Heights\n",
              "6        M9V  Etobicoke        Humbergate\n",
              "7        M9V  Etobicoke         Jamestown"
            ]
          },
          "metadata": {
            "tags": []
          },
          "execution_count": 149
        }
      ]
    },
    {
      "cell_type": "markdown",
      "metadata": {
        "id": "LnDTiaKh2kXj",
        "colab_type": "text"
      },
      "source": [
        "group data by PostalCode, joining the Neighbors values with \",\""
      ]
    },
    {
      "cell_type": "code",
      "metadata": {
        "id": "JTDsTbCtVxk4",
        "colab_type": "code",
        "outputId": "ced607b8-c109-4b8b-9dac-8971ad4fb9ff",
        "colab": {
          "base_uri": "https://localhost:8080/",
          "height": 272
        }
      },
      "source": [
        "grouped = postal.groupby('PostalCode')['Neighborhood'].apply(', '.join)\n",
        "grouped = grouped.to_frame()\n",
        "type(grouped)\n",
        "print(grouped)"
      ],
      "execution_count": 150,
      "outputs": [
        {
          "output_type": "stream",
          "text": [
            "                                                 Neighborhood\n",
            "PostalCode                                                   \n",
            "M1B                                            Rouge, Malvern\n",
            "M1C                    Highland Creek, Rouge Hill, Port Union\n",
            "M1E                         Guildwood, Morningside, West Hill\n",
            "M1G                                                    Woburn\n",
            "M1H                                                 Cedarbrae\n",
            "...                                                       ...\n",
            "M9N                                                    Weston\n",
            "M9P                                                 Westmount\n",
            "M9R         Kingsview Village, Martin Grove Gardens, Richv...\n",
            "M9V         Albion Gardens, Beaumond Heights, Humbergate, ...\n",
            "M9W                                                 Northwest\n",
            "\n",
            "[103 rows x 1 columns]\n"
          ],
          "name": "stdout"
        }
      ]
    },
    {
      "cell_type": "markdown",
      "metadata": {
        "id": "q0ePxVXO2ojs",
        "colab_type": "text"
      },
      "source": [
        "merge datasets to add back 'Borough' column"
      ]
    },
    {
      "cell_type": "code",
      "metadata": {
        "id": "SfMJ_c2wy9tz",
        "colab_type": "code",
        "colab": {
          "base_uri": "https://localhost:8080/",
          "height": 255
        },
        "outputId": "9825d8db-5939-4b4e-e5a8-deec18eaa946"
      },
      "source": [
        "import pandas as pd\n",
        "df = pd.merge(grouped, postal2, on='PostalCode', how='inner')\n",
        "df = df[['PostalCode', 'Borough', 'Neighborhood']]\n",
        "print(df)"
      ],
      "execution_count": 163,
      "outputs": [
        {
          "output_type": "stream",
          "text": [
            "    PostalCode      Borough                                       Neighborhood\n",
            "0          M1B  Scarborough                                     Rouge, Malvern\n",
            "1          M1B  Scarborough                                     Rouge, Malvern\n",
            "2          M1C  Scarborough             Highland Creek, Rouge Hill, Port Union\n",
            "3          M1C  Scarborough             Highland Creek, Rouge Hill, Port Union\n",
            "4          M1C  Scarborough             Highland Creek, Rouge Hill, Port Union\n",
            "..         ...          ...                                                ...\n",
            "205        M9V    Etobicoke  Albion Gardens, Beaumond Heights, Humbergate, ...\n",
            "206        M9V    Etobicoke  Albion Gardens, Beaumond Heights, Humbergate, ...\n",
            "207        M9V    Etobicoke  Albion Gardens, Beaumond Heights, Humbergate, ...\n",
            "208        M9V    Etobicoke  Albion Gardens, Beaumond Heights, Humbergate, ...\n",
            "209        M9W    Etobicoke                                          Northwest\n",
            "\n",
            "[210 rows x 3 columns]\n"
          ],
          "name": "stdout"
        }
      ]
    },
    {
      "cell_type": "markdown",
      "metadata": {
        "id": "gXaUytxP2s7d",
        "colab_type": "text"
      },
      "source": [
        "drop merged duplicates and print shape"
      ]
    },
    {
      "cell_type": "code",
      "metadata": {
        "id": "s2_P_0vN1U1t",
        "colab_type": "code",
        "colab": {
          "base_uri": "https://localhost:8080/",
          "height": 34
        },
        "outputId": "6872a67f-3673-40aa-9e78-995725bc331e"
      },
      "source": [
        "df = df.drop_duplicates()\n",
        "df.head(12)\n",
        "df.shape"
      ],
      "execution_count": 171,
      "outputs": [
        {
          "output_type": "execute_result",
          "data": {
            "text/plain": [
              "(103, 3)"
            ]
          },
          "metadata": {
            "tags": []
          },
          "execution_count": 171
        }
      ]
    },
    {
      "cell_type": "markdown",
      "metadata": {
        "id": "wBMXICvZ3GAO",
        "colab_type": "text"
      },
      "source": [
        "add postal code coordinates"
      ]
    },
    {
      "cell_type": "code",
      "metadata": {
        "id": "jWWgl_h93K3X",
        "colab_type": "code",
        "colab": {
          "base_uri": "https://localhost:8080/",
          "height": 376
        },
        "outputId": "3a226be8-77e4-4932-f79a-e1202a9a6130"
      },
      "source": [
        "geo = pd.read_csv('/content/Geospatial_Coordinates.csv')\n",
        "geo.columns = ['PostalCode', 'Latitude', 'Longitude']\n",
        "geo.columns\n",
        "\n",
        "geo = pd.merge(df, geo, on='PostalCode', how='inner')\n",
        "geo.head(10)"
      ],
      "execution_count": 181,
      "outputs": [
        {
          "output_type": "execute_result",
          "data": {
            "text/html": [
              "<div>\n",
              "<style scoped>\n",
              "    .dataframe tbody tr th:only-of-type {\n",
              "        vertical-align: middle;\n",
              "    }\n",
              "\n",
              "    .dataframe tbody tr th {\n",
              "        vertical-align: top;\n",
              "    }\n",
              "\n",
              "    .dataframe thead th {\n",
              "        text-align: right;\n",
              "    }\n",
              "</style>\n",
              "<table border=\"1\" class=\"dataframe\">\n",
              "  <thead>\n",
              "    <tr style=\"text-align: right;\">\n",
              "      <th></th>\n",
              "      <th>PostalCode</th>\n",
              "      <th>Borough</th>\n",
              "      <th>Neighborhood</th>\n",
              "      <th>Latitude</th>\n",
              "      <th>Longitude</th>\n",
              "    </tr>\n",
              "  </thead>\n",
              "  <tbody>\n",
              "    <tr>\n",
              "      <th>0</th>\n",
              "      <td>M1B</td>\n",
              "      <td>Scarborough</td>\n",
              "      <td>Rouge, Malvern</td>\n",
              "      <td>43.806686</td>\n",
              "      <td>-79.194353</td>\n",
              "    </tr>\n",
              "    <tr>\n",
              "      <th>1</th>\n",
              "      <td>M1C</td>\n",
              "      <td>Scarborough</td>\n",
              "      <td>Highland Creek, Rouge Hill, Port Union</td>\n",
              "      <td>43.784535</td>\n",
              "      <td>-79.160497</td>\n",
              "    </tr>\n",
              "    <tr>\n",
              "      <th>2</th>\n",
              "      <td>M1E</td>\n",
              "      <td>Scarborough</td>\n",
              "      <td>Guildwood, Morningside, West Hill</td>\n",
              "      <td>43.763573</td>\n",
              "      <td>-79.188711</td>\n",
              "    </tr>\n",
              "    <tr>\n",
              "      <th>3</th>\n",
              "      <td>M1G</td>\n",
              "      <td>Scarborough</td>\n",
              "      <td>Woburn</td>\n",
              "      <td>43.770992</td>\n",
              "      <td>-79.216917</td>\n",
              "    </tr>\n",
              "    <tr>\n",
              "      <th>4</th>\n",
              "      <td>M1H</td>\n",
              "      <td>Scarborough</td>\n",
              "      <td>Cedarbrae</td>\n",
              "      <td>43.773136</td>\n",
              "      <td>-79.239476</td>\n",
              "    </tr>\n",
              "    <tr>\n",
              "      <th>5</th>\n",
              "      <td>M1J</td>\n",
              "      <td>Scarborough</td>\n",
              "      <td>Scarborough Village</td>\n",
              "      <td>43.744734</td>\n",
              "      <td>-79.239476</td>\n",
              "    </tr>\n",
              "    <tr>\n",
              "      <th>6</th>\n",
              "      <td>M1K</td>\n",
              "      <td>Scarborough</td>\n",
              "      <td>East Birchmount Park, Ionview, Kennedy Park</td>\n",
              "      <td>43.727929</td>\n",
              "      <td>-79.262029</td>\n",
              "    </tr>\n",
              "    <tr>\n",
              "      <th>7</th>\n",
              "      <td>M1L</td>\n",
              "      <td>Scarborough</td>\n",
              "      <td>Clairlea, Golden Mile, Oakridge</td>\n",
              "      <td>43.711112</td>\n",
              "      <td>-79.284577</td>\n",
              "    </tr>\n",
              "    <tr>\n",
              "      <th>8</th>\n",
              "      <td>M1M</td>\n",
              "      <td>Scarborough</td>\n",
              "      <td>Cliffcrest, Cliffside, Scarborough Village West</td>\n",
              "      <td>43.716316</td>\n",
              "      <td>-79.239476</td>\n",
              "    </tr>\n",
              "    <tr>\n",
              "      <th>9</th>\n",
              "      <td>M1N</td>\n",
              "      <td>Scarborough</td>\n",
              "      <td>Birch Cliff, Cliffside West</td>\n",
              "      <td>43.692657</td>\n",
              "      <td>-79.264848</td>\n",
              "    </tr>\n",
              "  </tbody>\n",
              "</table>\n",
              "</div>"
            ],
            "text/plain": [
              "  PostalCode      Borough  ...   Latitude  Longitude\n",
              "0        M1B  Scarborough  ...  43.806686 -79.194353\n",
              "1        M1C  Scarborough  ...  43.784535 -79.160497\n",
              "2        M1E  Scarborough  ...  43.763573 -79.188711\n",
              "3        M1G  Scarborough  ...  43.770992 -79.216917\n",
              "4        M1H  Scarborough  ...  43.773136 -79.239476\n",
              "5        M1J  Scarborough  ...  43.744734 -79.239476\n",
              "6        M1K  Scarborough  ...  43.727929 -79.262029\n",
              "7        M1L  Scarborough  ...  43.711112 -79.284577\n",
              "8        M1M  Scarborough  ...  43.716316 -79.239476\n",
              "9        M1N  Scarborough  ...  43.692657 -79.264848\n",
              "\n",
              "[10 rows x 5 columns]"
            ]
          },
          "metadata": {
            "tags": []
          },
          "execution_count": 181
        }
      ]
    }
  ]
}